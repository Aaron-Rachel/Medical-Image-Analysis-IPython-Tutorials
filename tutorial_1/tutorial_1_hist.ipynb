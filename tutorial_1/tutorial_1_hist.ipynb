{
 "metadata": {
  "name": "",
  "signature": "sha256:0c882be5e045a83b380816b5274cf0643aa627e10c4b3aada7e973c91be274fb"
 },
 "nbformat": 3,
 "nbformat_minor": 0,
 "worksheets": [
  {
   "cells": [
    {
     "cell_type": "code",
     "collapsed": false,
     "input": [
      "# Load the python modules\n",
      "import sys\n",
      "import os\n",
      "\n",
      "import SimpleITK as sitk\n",
      "import numpy as np\n",
      "import matplotlib.pyplot as plt\n",
      "\n",
      "%matplotlib inline\n",
      "sys.path.append('../src')\n",
      "import imagedisplay"
     ],
     "language": "python",
     "metadata": {},
     "outputs": []
    },
    {
     "cell_type": "heading",
     "level": 3,
     "metadata": {},
     "source": [
      "Contrast Enhancement"
     ]
    },
    {
     "cell_type": "code",
     "collapsed": false,
     "input": [
      "def contrast(image, c=1, gamma=2.2):\n",
      "    return c* pow(image, gamma)"
     ],
     "language": "python",
     "metadata": {},
     "outputs": []
    },
    {
     "cell_type": "code",
     "collapsed": false,
     "input": [
      "# Convert image to python array\n",
      "imagefilename = \"../sample_data/image.nii.gz\"\n",
      "image = sitk.ReadImage(imagefilename)\n",
      "data = sitk.GetArrayFromImage(image)\n",
      "\n",
      "gamma = 2.2;\n",
      "corr_constant = 1.0;\n",
      "data2 = contrast(data, corr_constant, gamma)\n",
      "\n",
      "image2 = sitk.GetImageFromArray(data2)\n",
      "image2.CopyInformation(image)\n",
      "imageSize = image2.GetSize()\n",
      "\n",
      "slices = [image[imageSize[0]//2,:,:], image[:,imageSize[1]//2,:], image[:,:,imageSize[2]//2]]\n",
      "imagedisplay.myshow(sitk.Tile(slices, [3,1]), dpi=28)\n",
      "\n",
      "slices2 =[image2[imageSize[0]//2,:,:], image2[:,imageSize[1]//2,:], image2[:,:,imageSize[2]//2]]\n",
      "imagedisplay.myshow(sitk.Tile(slices2, [3,1]), dpi=28)"
     ],
     "language": "python",
     "metadata": {},
     "outputs": []
    },
    {
     "cell_type": "heading",
     "level": 3,
     "metadata": {},
     "source": [
      "Histogram of intensity values"
     ]
    },
    {
     "cell_type": "code",
     "collapsed": false,
     "input": [
      "# Read the input image\n",
      "image = sitk.ReadImage(imagefilename)"
     ],
     "language": "python",
     "metadata": {},
     "outputs": []
    },
    {
     "cell_type": "code",
     "collapsed": false,
     "input": [
      "# Read maximum and minimum intensity values\n",
      "stats = sitk.StatisticsImageFilter()\n",
      "stats.Execute( image )\n",
      "max = stats.GetMaximum()\n",
      "min = stats.GetMinimum()\n",
      "print 'Min intensity = {0} \\nMax intensity = {1}'.format(min, max)"
     ],
     "language": "python",
     "metadata": {},
     "outputs": []
    },
    {
     "cell_type": "code",
     "collapsed": false,
     "input": [
      "# Plot the intensity histogram\n",
      "data = sitk.GetArrayFromImage(image)\n",
      "plt.figure(figsize=(8, 5), dpi=100)\n",
      "plt.subplot(211)\n",
      "plt.hist(data.flatten(), bins=32, range=(10, 255), normed=True)\n",
      "plt.subplot(212)\n",
      "plt.hist(data.flatten(), bins=32, range=(10, 255), normed=True, cumulative=True)\n",
      "plt.show()"
     ],
     "language": "python",
     "metadata": {},
     "outputs": []
    },
    {
     "cell_type": "heading",
     "level": 3,
     "metadata": {},
     "source": [
      "Histogram equalization"
     ]
    },
    {
     "cell_type": "code",
     "collapsed": false,
     "input": [
      "def histeq(image, nbins=256):\n",
      "    \n",
      "    # Compute image histogram\n",
      "    histo,bins = np.histogram(image.flatten(),nbins,normed=True)\n",
      "    \n",
      "    # Compute cumulative distribution function and normalize\n",
      "    cdf = histo.cumsum()    \n",
      "    cdf = 255 * cdf / cdf[-1]\n",
      "    \n",
      "    # Use linear interpolation of cdf to find new pixel values\n",
      "    image2 = np.interp(image.flatten(),bins[:-1],cdf)\n",
      "                    \n",
      "    return image2.reshape(image.shape)"
     ],
     "language": "python",
     "metadata": {},
     "outputs": []
    },
    {
     "cell_type": "code",
     "collapsed": false,
     "input": [
      "image = sitk.ReadImage(imagefilename)\n",
      "data = sitk.GetArrayFromImage(image)\n",
      "data2 = histeq(data)\n",
      "\n",
      "# Plot histogram before equalisation\n",
      "plt.figure(figsize=(12, 8), dpi=100)\n",
      "plt.subplot(221)\n",
      "plt.hist(data.flatten(),range=(10, 255), bins=64, normed=True)\n",
      "plt.subplot(222)\n",
      "plt.hist(data.flatten(), bins=64, normed=True, cumulative=True)\n",
      "\n",
      "plt.subplot(223)\n",
      "plt.hist(data2.flatten(),range=(10, 255), bins=64, normed=True)\n",
      "plt.subplot(224)\n",
      "plt.hist(data2.flatten(), bins=64, normed=True, cumulative=True)\n",
      "plt.show()"
     ],
     "language": "python",
     "metadata": {},
     "outputs": []
    },
    {
     "cell_type": "code",
     "collapsed": false,
     "input": [
      "# Create image from array and copy header from old image\n",
      "image2 = sitk.GetImageFromArray(data2)\n",
      "image2.CopyInformation(image)\n",
      "imageSize = image2.GetSize()\n",
      "\n",
      "slices = [image[imageSize[0]//2,:,:], image[:,imageSize[1]//2,:], image[:,:,imageSize[2]//2]]\n",
      "imagedisplay.myshow(sitk.Tile(slices, [3,1]), dpi=28)\n",
      "\n",
      "slices2 =[image2[imageSize[0]//2,:,:], image2[:,imageSize[1]//2,:], image2[:,:,imageSize[2]//2]]\n",
      "imagedisplay.myshow(sitk.Tile(slices2, [3,1]), dpi=28)"
     ],
     "language": "python",
     "metadata": {},
     "outputs": []
    }
   ],
   "metadata": {}
  }
 ]
}