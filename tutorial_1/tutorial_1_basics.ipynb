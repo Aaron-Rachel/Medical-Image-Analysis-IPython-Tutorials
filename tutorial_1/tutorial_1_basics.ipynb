{
 "metadata": {
  "name": "",
  "signature": "sha256:cd3098bd31b4d74c0023ace09c2f44c196d232ce1ba051d87c16c4a8bdc79ec5"
 },
 "nbformat": 3,
 "nbformat_minor": 0,
 "worksheets": [
  {
   "cells": [
    {
     "cell_type": "heading",
     "level": 2,
     "metadata": {},
     "source": [
      "Medical Image Computing - Tutorial 1"
     ]
    },
    {
     "cell_type": "markdown",
     "metadata": {},
     "source": [
      "This tutorial gives a brief introduction to medical image data analysis, visualization, and processing. "
     ]
    },
    {
     "cell_type": "code",
     "collapsed": false,
     "input": [
      "# load the required modules\n",
      "import sys\n",
      "import numpy as np\n",
      "import SimpleITK as sitk"
     ],
     "language": "python",
     "metadata": {},
     "outputs": []
    },
    {
     "cell_type": "heading",
     "level": 3,
     "metadata": {},
     "source": [
      "Documentation"
     ]
    },
    {
     "cell_type": "markdown",
     "metadata": {},
     "source": [
      "SimpleITK classes and functions have the Docstrings derived from the C++ definitions and the Doxygen documentation."
     ]
    },
    {
     "cell_type": "code",
     "collapsed": false,
     "input": [
      "help(sitk.Image.GetPixel)"
     ],
     "language": "python",
     "metadata": {},
     "outputs": []
    },
    {
     "cell_type": "code",
     "collapsed": false,
     "input": [
      "image = sitk.ReadImage('./sample_data/image.nii.gz')"
     ],
     "language": "python",
     "metadata": {},
     "outputs": []
    },
    {
     "cell_type": "heading",
     "level": 3,
     "metadata": {},
     "source": [
      "Image dimensions"
     ]
    },
    {
     "cell_type": "code",
     "collapsed": false,
     "input": [
      "imageSize = image.GetSize()\n",
      "n_rows = imageSize[0]\n",
      "n_cols = imageSize[1]\n",
      "n_slices = imageSize[2]\n",
      "\n",
      "print \"(Image Size) number of rows:%d cols:%d slices:%d \" % (imageSize[0],imageSize[1],imageSize[2])"
     ],
     "language": "python",
     "metadata": {},
     "outputs": []
    },
    {
     "cell_type": "heading",
     "level": 3,
     "metadata": {},
     "source": [
      "Image orientation and origin in world coordinate space"
     ]
    },
    {
     "cell_type": "code",
     "collapsed": false,
     "input": [
      "print image.GetOrigin()\n",
      "print image.GetDirection()"
     ],
     "language": "python",
     "metadata": {},
     "outputs": []
    },
    {
     "cell_type": "heading",
     "level": 3,
     "metadata": {},
     "source": [
      "Voxel size"
     ]
    },
    {
     "cell_type": "code",
     "collapsed": false,
     "input": [
      "imageSpacing = image.GetSpacing()\n",
      "print imageSpacing"
     ],
     "language": "python",
     "metadata": {},
     "outputs": []
    },
    {
     "cell_type": "heading",
     "level": 3,
     "metadata": {},
     "source": [
      "Reading and assigning pixel values"
     ]
    },
    {
     "cell_type": "code",
     "collapsed": false,
     "input": [
      "print \"The pixel value at x=50, y=50, z=50 is %d\" % int(image.GetPixel(50, 50, 50))\n",
      "image.SetPixel(50, 50, 50, 10)\n",
      "print \"The new value is %d\" % int(image.GetPixel(50, 50, 50))"
     ],
     "language": "python",
     "metadata": {},
     "outputs": []
    },
    {
     "cell_type": "code",
     "collapsed": false,
     "input": [
      "print image[50,50,50]"
     ],
     "language": "python",
     "metadata": {},
     "outputs": []
    },
    {
     "cell_type": "heading",
     "level": 3,
     "metadata": {},
     "source": [
      "Image statistics"
     ]
    },
    {
     "cell_type": "code",
     "collapsed": false,
     "input": [
      "stats = sitk.StatisticsImageFilter()\n",
      "stats.Execute( image )\n",
      "max = stats.GetMaximum()\n",
      "min = stats.GetMinimum()\n",
      "print 'Min intensity = {0} \\nMax intensity = {1}'.format(min, max)"
     ],
     "language": "python",
     "metadata": {},
     "outputs": []
    },
    {
     "cell_type": "heading",
     "level": 3,
     "metadata": {},
     "source": [
      "Intensity rescaling"
     ]
    },
    {
     "cell_type": "code",
     "collapsed": false,
     "input": [
      "# Linearly rescale the intensity values\n",
      "\n",
      "outputMinimum = 0\n",
      "outputMaximum = 1024 \n",
      "rescaled_image = sitk.RescaleIntensity(image,outputMinimum,outputMaximum)\n",
      "\n",
      "stats.Execute( rescaled_image )\n",
      "max = stats.GetMaximum()\n",
      "min = stats.GetMinimum()\n",
      "print 'Min intensity = {0} \\nMax intensity = {1}'.format(min, max)"
     ],
     "language": "python",
     "metadata": {},
     "outputs": []
    }
   ],
   "metadata": {}
  }
 ]
}