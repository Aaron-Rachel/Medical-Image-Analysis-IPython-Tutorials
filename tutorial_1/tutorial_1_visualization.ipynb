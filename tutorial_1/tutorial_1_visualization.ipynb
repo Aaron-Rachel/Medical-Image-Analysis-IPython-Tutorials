{
 "metadata": {
  "name": "",
  "signature": "sha256:f0be47a5789b820dda3bfc9a8ce86b98901e8b4a4099bfd042a8deb8994b9bdf"
 },
 "nbformat": 3,
 "nbformat_minor": 0,
 "worksheets": [
  {
   "cells": [
    {
     "cell_type": "code",
     "collapsed": false,
     "input": [
      "# load modules\n",
      "import sys\n",
      "import numpy as np\n",
      "import SimpleITK as sitk\n",
      "%matplotlib inline\n",
      "\n",
      "sys.path.append('../src')\n",
      "import volumerendering\n",
      "import imagedisplay"
     ],
     "language": "python",
     "metadata": {},
     "outputs": []
    },
    {
     "cell_type": "code",
     "collapsed": false,
     "input": [
      "# Read the image\n",
      "image = sitk.ReadImage('../sample_data/image2.nii.gz')\n",
      "\n",
      "# Image dimensions (width,height,depth)\n",
      "imageSize = image.GetSize()"
     ],
     "language": "python",
     "metadata": {},
     "outputs": []
    },
    {
     "cell_type": "heading",
     "level": 3,
     "metadata": {},
     "source": [
      "Projection of the volume onto a 2D plane"
     ]
    },
    {
     "cell_type": "code",
     "collapsed": false,
     "input": [
      "# Several 2-D projections along the same axis\n",
      "imagedisplay.myshow3d(image,yslices=range(50,imageSize[2]-50,12),zslices=range(50,imageSize[2]-50,12), dpi=10)"
     ],
     "language": "python",
     "metadata": {},
     "outputs": []
    },
    {
     "cell_type": "heading",
     "level": 3,
     "metadata": {},
     "source": [
      "Multi-plane projection and image labels"
     ]
    },
    {
     "cell_type": "code",
     "collapsed": false,
     "input": [
      "# Read the image\n",
      "image = sitk.ReadImage('../sample_data/image.nii.gz')\n",
      "\n",
      "# Image dimensions (width,height,depth)\n",
      "imageSize = image.GetSize()\n",
      "\n",
      "# 3D planar view\n",
      "slices =[image[imageSize[0]//2,:,::-1], image[:,imageSize[1]//2,::-1], image[:,:,imageSize[2]//2]]\n",
      "imagedisplay.myshow(sitk.Tile(slices, [3,1]), dpi=30)\n",
      "\n",
      "# Load the annotations (gray matter, white matter, csf)\n",
      "img_labels = sitk.ReadImage('../sample_data/labelmap.nii.gz')\n",
      "\n",
      "# Display the annotations\n",
      "slices =[img_labels[imageSize[0]//2,:,::-1], img_labels[:,imageSize[1]//2,::-1], img_labels[:,:,imageSize[2]//2]]\n",
      "imagedisplay.myshow(sitk.Tile(slices, [3,1]), dpi=30)"
     ],
     "language": "python",
     "metadata": {},
     "outputs": []
    },
    {
     "cell_type": "heading",
     "level": 3,
     "metadata": {},
     "source": [
      "Volume rendering"
     ]
    },
    {
     "cell_type": "code",
     "collapsed": false,
     "input": [
      "# load the second image\n",
      "image2 = sitk.ReadImage('../sample_data/image2.nii.gz')\n",
      "data = sitk.GetArrayFromImage(image2) # numpy array\n",
      "\n",
      "# converting the pixel type to uint8 and rescaling\n",
      "data = data.astype('float')\n",
      "data /= data.max()\n",
      "data *= 255\n",
      "data = data.astype('uint8')\n",
      "\n",
      "# intensity window and opacity value\n",
      "win_b=39.0\n",
      "win_e=72.0\n",
      "win_m=(win_b+win_e)/2\n",
      "opacity=0.2\n",
      "\n",
      "# volume rendering transfer function\n",
      "tf=[[0,0,0,0,0],\n",
      "    [win_b,0,0,0,0],\n",
      "    [win_m,1,1,1,0.2],\n",
      "    [win_e,1,1,1,0],\n",
      "    [data.max(),1,1,1,0]]\n",
      "\n",
      "# perform volume rendering (a new window should be opened - vtk inline display is not supported)\n",
      "actor_list = volumerendering.volumeRender(data, tf=tf, spacing=image2.GetSpacing())\n",
      "volumerendering.vtk_basic(actor_list)"
     ],
     "language": "python",
     "metadata": {},
     "outputs": []
    }
   ],
   "metadata": {}
  }
 ]
}