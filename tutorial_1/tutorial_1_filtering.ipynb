{
 "metadata": {
  "name": "",
  "signature": "sha256:6589282247933e4e637e6b359f3d23dc61a2b6dc9f41c52af6d2b733f62b2095"
 },
 "nbformat": 3,
 "nbformat_minor": 0,
 "worksheets": [
  {
   "cells": [
    {
     "cell_type": "code",
     "collapsed": false,
     "input": [
      "# Load the python modules\n",
      "import sys\n",
      "import os\n",
      "\n",
      "import SimpleITK as sitk\n",
      "import numpy as np\n",
      "import matplotlib.pyplot as plt\n",
      "\n",
      "%matplotlib inline\n",
      "sys.path.append('../src')\n",
      "import imagedisplay"
     ],
     "language": "python",
     "metadata": {},
     "outputs": []
    },
    {
     "cell_type": "code",
     "collapsed": false,
     "input": [
      "# Read the image\n",
      "imagefilename = \"../sample_data/image.nii.gz\"\n",
      "image = sitk.ReadImage(imagefilename)"
     ],
     "language": "python",
     "metadata": {},
     "outputs": []
    },
    {
     "cell_type": "heading",
     "level": 3,
     "metadata": {},
     "source": [
      "Sobel and mean filtering"
     ]
    },
    {
     "cell_type": "code",
     "collapsed": false,
     "input": [
      "image =  sitk.Cast(image, sitk.sitkFloat32 )\n",
      "\n",
      "# Create convolution filter object\n",
      "conv = sitk.ConvolutionImageFilter()\n",
      "\n",
      "# Sobel filter in X\n",
      "filterX = sitk.Image( 3, 3, 3, sitk.sitkFloat32 )\n",
      "for z in range( 0, filterX.GetSize()[2] ):\n",
      "    for y in range( 0, filterX.GetSize()[1] ):\n",
      "        filterX[0, y, z] = 1\n",
      "        filterX[1, y, z] = 0\n",
      "        filterX[2, y, z] = -1\n",
      "\n",
      "# Sobel filter in Y\n",
      "filterY = sitk.Image( 3, 3, 3, sitk.sitkFloat32 )\n",
      "for z in range( 0, filterY.GetSize()[2] ):\n",
      "    for x in range( 0, filterY.GetSize()[0] ):\n",
      "        filterY[x, 0, z] = 1\n",
      "        filterY[x, 1, z] = 0\n",
      "        filterY[x, 2, z] = -1\n",
      "\n",
      "# Mean filter\n",
      "mean = sitk.Image( 3, 3, 3, sitk.sitkFloat32 )\n",
      "for z in range( 0, mean.GetSize()[2] ):\n",
      "    for y in range( 0, mean.GetSize()[1] ):\n",
      "        for x in range( 0, mean.GetSize()[0] ):\n",
      "            mean[x, y, z] = 1\n",
      "            \n",
      "# Convolve the image with different filters\n",
      "image2 = conv.Execute(image, filterX)\n",
      "image3 = conv.Execute(image, filterY)\n",
      "image4 = conv.Execute(image, mean)\n",
      "\n",
      "# rescaling the intensities for better visualization\n",
      "image = sitk.RescaleIntensity(image,0.0,255.0)\n",
      "image2 = sitk.RescaleIntensity(image2,0.0,255.0)\n",
      "image3 = sitk.RescaleIntensity(image3,0.0,255.0)\n",
      "image4 = sitk.RescaleIntensity(image4,0.0,255.0)\n",
      "\n",
      "imageSize = image.GetSize()\n",
      "slices = [image[:,:,imageSize[2]//2], image2[:,:,imageSize[2]//2], image3[:,:,imageSize[2]//2], image4[:,:,imageSize[2]//2]]\n",
      "imagedisplay.myshow(sitk.Tile(slices, [4,1]), dpi=16)"
     ],
     "language": "python",
     "metadata": {},
     "outputs": []
    },
    {
     "cell_type": "heading",
     "level": 3,
     "metadata": {},
     "source": [
      "Gaussian noise"
     ]
    },
    {
     "cell_type": "code",
     "collapsed": false,
     "input": [
      "# Copy the image matrix\n",
      "data = sitk.GetArrayFromImage(image) # numpy array\n",
      "\n",
      "# Image dimensions\n",
      "n_rows = imageSize[0]\n",
      "n_cols = imageSize[1]\n",
      "n_slices = imageSize[2]\n",
      "\n",
      "# Add a gaussian noise to the image\n",
      "mean = 0\n",
      "sigma = max(data.flatten()) * 0.10\n",
      "noise = np.random.normal(mean,sigma,(n_rows,n_cols,n_slices))\n",
      "noisy_data = data + noise\n",
      "\n",
      "# Put the numpy matrix into the sitk image object \n",
      "noisy_image = sitk.GetImageFromArray(noisy_data)\n",
      "# Meta-information has to be copied from the original image (voxel spacing, orientation, and origin)\n",
      "sitk.Image.CopyInformation(noisy_image,image) \n",
      " \n",
      "slices =[noisy_image[imageSize[0]//2,:,::-1],noisy_image[:,imageSize[1]//2,::-1],noisy_image[:,:,imageSize[2]//2]]\n",
      "imagedisplay.myshow(sitk.Tile(slices, [3,1]), dpi=21)"
     ],
     "language": "python",
     "metadata": {},
     "outputs": []
    },
    {
     "cell_type": "heading",
     "level": 3,
     "metadata": {},
     "source": [
      "Gaussian blurring"
     ]
    },
    {
     "cell_type": "code",
     "collapsed": false,
     "input": [
      "variance = 2.0\n",
      "maximumKernelWidth=10 #Maximum allowed kernel width for any dimension of the discrete Gaussian approximation\n",
      "maximumError=0.01\n",
      "useImageSpacing=True #The variance will be evaluated as pixel units if SetUseImageSpacing is off or as physical units if SetUseImageSpacing is on\n",
      "\n",
      "denoised_image = sitk.DiscreteGaussian(noisy_image,variance,maximumKernelWidth,maximumError,useImageSpacing)\n",
      "\n",
      "slices =[denoised_image[imageSize[0]//2,:,::-1],denoised_image[:,imageSize[1]//2,::-1],denoised_image[:,:,imageSize[2]//2]]\n",
      "imagedisplay.myshow(sitk.Tile(slices, [3,1]), dpi=21)"
     ],
     "language": "python",
     "metadata": {},
     "outputs": []
    },
    {
     "cell_type": "heading",
     "level": 3,
     "metadata": {},
     "source": [
      "Anisotropic diffusion filtering"
     ]
    },
    {
     "cell_type": "code",
     "collapsed": false,
     "input": [
      "denoised_image = sitk.GradientAnisotropicDiffusion(noisy_image,0.120,3,1,6)\n",
      "slices =[denoised_image[imageSize[0]//2,:,::-1],denoised_image[:,imageSize[1]//2,::-1],denoised_image[:,:,imageSize[2]//2]]\n",
      "imagedisplay.myshow(sitk.Tile(slices, [3,1]), dpi=21)"
     ],
     "language": "python",
     "metadata": {},
     "outputs": []
    },
    {
     "cell_type": "heading",
     "level": 3,
     "metadata": {},
     "source": [
      "Image downsampling"
     ]
    },
    {
     "cell_type": "code",
     "collapsed": false,
     "input": [
      "# Sampling Factor\n",
      "sFactor = 4.0\n",
      "\n",
      "# Perform lowpass filtering to avoid aliasing\n",
      "variance = sFactor / 2.0\n",
      "maximumKernelWidth=7\n",
      "maximumError=0.01\n",
      "useImageSpacing=False\n",
      "blurred_image = sitk.DiscreteGaussian(image,variance,maximumKernelWidth,maximumError,useImageSpacing)\n",
      "\n",
      "#By default a 3-d identity transform is constructed\n",
      "transformation = sitk.Transform()\n",
      "\n",
      "#A linear interpolation is selected for resampling\n",
      "interpolator = sitk.sitkLinear\n",
      "\n",
      "# Copy meta information\n",
      "imageSize = image.GetSize()\n",
      "imageSpacing = image.GetSpacing()\n",
      "\n",
      "new_imageSize = [int(float(z)/sFactor) for z in imageSize]\n",
      "new_imageOrigin = image.GetOrigin()\n",
      "new_imageDirection = image.GetDirection() \n",
      "new_imageSpacing = [z*sFactor for z in imageSpacing]\n",
      "\n",
      "# Perform resampling\n",
      "resampled_image = sitk.Resample(blurred_image,new_imageSize,transformation,interpolator,new_imageOrigin,new_imageSpacing,new_imageDirection)\n",
      "\n",
      "slices =[resampled_image[new_imageSize[0]//2,:,::-1],resampled_image[:,new_imageSize[1]//2,::-1],resampled_image[:,:,new_imageSize[2]//2]]\n",
      "imagedisplay.myshow(sitk.Tile(slices, [3,1]), dpi=5.25)"
     ],
     "language": "python",
     "metadata": {},
     "outputs": []
    }
   ],
   "metadata": {}
  }
 ]
}