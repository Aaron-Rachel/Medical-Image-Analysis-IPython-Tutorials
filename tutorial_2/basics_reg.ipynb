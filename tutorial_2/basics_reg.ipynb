{
 "metadata": {
  "name": "",
  "signature": "sha256:cddebf33541da5294d9252d6b3e2160b75d6aba69d5164c6c63b03aa46086b09"
 },
 "nbformat": 3,
 "nbformat_minor": 0,
 "worksheets": [
  {
   "cells": [
    {
     "cell_type": "heading",
     "level": 2,
     "metadata": {},
     "source": [
      "Image Registration Tutorial - Basics"
     ]
    },
    {
     "cell_type": "markdown",
     "metadata": {},
     "source": [
      "First, we initialise the Python environment to make use of the developer version of SimpleITK."
     ]
    },
    {
     "cell_type": "code",
     "collapsed": false,
     "input": [
      "import sys\n",
      "import os\n",
      "\n",
      "sys.path.insert(0,'simpleitk/SimpleITK-0.8.0-STRAW-branch-py2.7-linux-x86_64.egg_FILES')\n",
      "sys.path.insert(0,'../src')\n",
      "\n",
      "import numpy as np\n",
      "import math as mt\n",
      "import SimpleITK as sitk\n",
      "\n",
      "import matplotlib.pyplot as plt\n",
      "%matplotlib inline\n",
      "from imagedisplay import myshow\n",
      "from IPython.display import display, clear_output"
     ],
     "language": "python",
     "metadata": {},
     "outputs": []
    },
    {
     "cell_type": "heading",
     "level": 3,
     "metadata": {},
     "source": [
      "Comparing different (dis)similarity measures"
     ]
    },
    {
     "cell_type": "markdown",
     "metadata": {},
     "source": [
      "The next cell is about a simple registration experiment for comparing different (dis)similarity measures. Here, we use the same 2D brain image for both the fixed and the moving image. We translate the moving image along the x-axis and record and plot the (dis)similarity values.\n",
      "\n",
      "TASK: a) Try out different (dis)similarity measures, b) try out different interpolation methods, c) change the range of translations"
     ]
    },
    {
     "cell_type": "code",
     "collapsed": false,
     "input": [
      "#load images\n",
      "fixedInputFilename = \"./data/BrainProtonDensitySliceBorder20.png\"\n",
      "fixedInput = sitk.ReadImage(fixedInputFilename)\n",
      "\n",
      "#set fixed and moving to the same image\n",
      "fixed = sitk.VectorIndexSelectionCast(fixedInput,0,sitk.sitkFloat32)\n",
      "moving = fixed    \n",
      "\n",
      "   \n",
      "# the following defines a function that takes two images, an array with 1D translations, and a flag defining the (dis)similarity measure\n",
      "def metric_calc_translation (fixed_img, moving_img, tx_array, metric='SSD'):\n",
      "    \n",
      "    # Define the registration object and properties \n",
      "    # (just to calculate the metric value - we are not going to perform optimization)\n",
      "    R = sitk.ImageRegistrationMethod()    \n",
      "    R.SetOptimizerAsRegularStepGradientDescent(maxStep=1e-10, minStep=1e-11, numberOfIterations=1 )\n",
      "    \n",
      "    \n",
      "    # Interpolation method\n",
      "    # MAKE A SELECTION HERE\n",
      "    \n",
      "    # Linear interpolation\n",
      "    R.SetInterpolator(sitk.sitkLinear)\n",
      "    \n",
      "    # Nearest neighbor interpolation\n",
      "    #R.SetInterpolator(sitk.sitkNearestNeighbor)\n",
      "    \n",
      "\n",
      "    if metric == 'SSD':\n",
      "        R.SetMetricAsMeanSquares()\n",
      "        title_str = 'Sum of Squared Differences'\n",
      "    elif metric == 'CC':\n",
      "        R.SetMetricAsNormalizedCorrelation(subtractMean=True)\n",
      "        title_str = 'Correlation Coefficient'\n",
      "    elif metric == 'NMI':\n",
      "        R.SetMetricAsMattesMutualInformation(numberOfHistogramBins=50)\n",
      "        title_str = 'Normalized Mutual Information'\n",
      "    else:\n",
      "        raise RuntimeError('undefined similarity metric')\n",
      "        \n",
      "    cost = []\n",
      "    for tx in tx_array:\n",
      "    \n",
      "        # Create a transformation (translation in x-direction)\n",
      "        t_input=sitk.Transform(fixed.GetDimension(), sitk.sitkTranslation)\n",
      "        t_input.SetParameters( [tx,0] ); # t_input[0]=offset_x t_input[1]=offset_y\n",
      "\n",
      "        # Run the cost function calculation\n",
      "        R.SetTransform(t_input)\n",
      "        R.Execute(fixed,moving)\n",
      "        \n",
      "        # Collect value\n",
      "        cost.append(R.GetMetricValue())\n",
      "\n",
      "    # Plot the metric values\n",
      "    fig = plt.figure()\n",
      "    ax = fig.add_subplot(111)\n",
      "    ax.set_title(title_str,fontsize=16)   \n",
      "\n",
      "    ax.set_xlabel('Translation in x direction (in mm)',fontsize=16)\n",
      "    ax.set_ylabel('Cost function',fontsize=16)\n",
      "    ax.plot(tx_arr,cost,'r')\n",
      "    fig.show()\n",
      "      \n",
      "        \n",
      "# CHANGE CODE HERE: Try different a different translation range\n",
      "tx_arr = np.linspace(-15.0, 15.0, num=100, endpoint=True)\n",
      "\n",
      "# Run the experiment\n",
      "metric_calc_translation (fixed,moving,tx_arr,'SSD')\n",
      "metric_calc_translation (fixed,moving,tx_arr,'CC')\n",
      "metric_calc_translation (fixed,moving,tx_arr,'NMI')"
     ],
     "language": "python",
     "metadata": {},
     "outputs": []
    },
    {
     "cell_type": "heading",
     "level": 3,
     "metadata": {},
     "source": [
      "Effect of Gaussian smoothing"
     ]
    },
    {
     "cell_type": "markdown",
     "metadata": {},
     "source": [
      "Now we explore the effect of Gaussian smoothing on the (dis)similarity values.\n",
      "\n",
      "TASK: a) try out different filter kernel sizes, b) try out differernt (dis)similarity measures"
     ]
    },
    {
     "cell_type": "code",
     "collapsed": false,
     "input": [
      "tx_arr = np.linspace(-15.0, 15.0, num=100, endpoint=True)\n",
      "\n",
      "# Apply Gaussian smoothing to the fixed and the moving image\n",
      "moving = sitk.DiscreteGaussian(moving, 2.0)\n",
      "fixed = sitk.DiscreteGaussian(fixed, 2.0)\n",
      "\n",
      "# Re-run the little translation experiments\n",
      "metric_calc_translation (fixed,moving,tx_arr,metric='SSD')\n",
      "metric_calc_translation (fixed,moving,tx_arr,metric='CC')\n",
      "metric_calc_translation (fixed,moving,tx_arr,metric='NMI')"
     ],
     "language": "python",
     "metadata": {},
     "outputs": []
    },
    {
     "cell_type": "heading",
     "level": 3,
     "metadata": {},
     "source": [
      "Effect of Rotation"
     ]
    },
    {
     "cell_type": "markdown",
     "metadata": {},
     "source": [
      "In the next cell, we repeat the earlier experiment, but this time the moving image is also rotated.\n",
      "\n",
      "TASK: Explore how different rotations impact the (dis)similarity values."
     ]
    },
    {
     "cell_type": "code",
     "collapsed": false,
     "input": [
      "# CHANGE CODE HERE: Try different values for the rotation\n",
      "angle = 3.14/4\n",
      "\n",
      "\n",
      "# Define display function\n",
      "def cmyshow(img1,img2,*args, **kw):\n",
      "    simg1 = sitk.Cast(sitk.RescaleIntensity(img1), sitk.sitkUInt8)\n",
      "    simg2 = sitk.Cast(sitk.RescaleIntensity(img2), sitk.sitkUInt8)\n",
      "    cimg = sitk.Compose(simg1, simg2, simg1/2.+simg2/2.)\n",
      "    myshow(cimg,*args, **kw)\n",
      "\n",
      "    \n",
      "# Define the warping function\n",
      "def warpmyimage(reference,img_source,transformation):\n",
      "    resampler = sitk.ResampleImageFilter()\n",
      "    resampler.SetReferenceImage(reference)\n",
      "    resampler.SetInterpolator(sitk.sitkLinear)\n",
      "    resampler.SetDefaultPixelValue(0.0)\n",
      "    resampler.SetTransform(transformation)\n",
      "    moving = resampler.Execute(img_source)\n",
      "    return moving\n",
      "\n",
      "\n",
      "# Read the image again\n",
      "fixedInputFilename = \"./data/BrainProtonDensitySliceBorder20.png\"\n",
      "fixedInput = sitk.ReadImage(fixedInputFilename)\n",
      "fixed = sitk.VectorIndexSelectionCast(fixedInput,0,sitk.sitkFloat32)\n",
      "\n",
      "# Smooth the input image\n",
      "fixed = sitk.DiscreteGaussian(fixed, 1.0)\n",
      "\n",
      "# Move the image center to origin - the rotation will be performed around the point (0,0)\n",
      "spacing = fixed.GetSpacing();dimension = fixed.GetSize();  \n",
      "fixed.SetOrigin([-1*spacing[0]*dimension[0]//2,-1*spacing[1]*dimension[1]//2])\n",
      "\n",
      "# Transformation object for rotation (http://www.itk.org/Doxygen/html/classitk_1_1Euler2DTransform.html)\n",
      "# Get the parameters that uniquely define the transform This is typically used by optimizers. There are 3 parameters. The first one represents the angle or rotation in radians and the last two represents the translation. The center of rotation is fixed.\n",
      "t_input=sitk.Transform(fixed.GetDimension(), sitk.sitkEuler)\n",
      "p = list(t_input.GetParameters()); p[0] = angle; t_input.SetParameters(p)\n",
      "\n",
      "# Resample the moving image based on this transformation\n",
      "moving = warpmyimage(fixed,fixed,t_input)\n",
      "cmyshow(fixed,moving, title=\"Fixed Red, Moving Green\", dpi = 50)\n",
      "\n",
      "# Run the (dis)similarity evaluation for a range of translations\n",
      "tx_arr = np.linspace(-15.0, 15.0, num=100, endpoint=True)\n",
      "metric_calc_translation (fixed,moving,tx_arr,metric='SSD')\n",
      "metric_calc_translation (fixed,moving,tx_arr,metric='CC')\n",
      "metric_calc_translation (fixed,moving,tx_arr,metric='NMI')"
     ],
     "language": "python",
     "metadata": {},
     "outputs": []
    },
    {
     "cell_type": "heading",
     "level": 3,
     "metadata": {},
     "source": [
      "Using an optimisation method"
     ]
    },
    {
     "cell_type": "markdown",
     "metadata": {},
     "source": [
      "The parameter space has 3 dimensions (1 rotation & 2 translations).\n",
      "To obtain the optimal transformation, it is possible to perform a greedy search which is computationally very expensive. Rather than doing this, in this cell we will try to optimize the cost function with gradient descent algorithm.\n",
      "\n",
      "TASK: Try out different (dis)similarity measures"
     ]
    },
    {
     "cell_type": "code",
     "collapsed": false,
     "input": [
      "# Setting up the registration\n",
      "R = sitk.ImageRegistrationMethod()\n",
      "\n",
      "\n",
      "# (Dis)similarity measure\n",
      "# MAKE A SELECTION HERE\n",
      "\n",
      "# SSD\n",
      "R.SetMetricAsMeanSquares()\n",
      "\n",
      "# CC\n",
      "#R.SetMetricAsNormalizedCorrelation(subtractMean=True)\n",
      "\n",
      "# NMI\n",
      "#R.SetMetricAsMattesMutualInformation(numberOfHistogramBins=50)\n",
      "\n",
      "\n",
      "R.SetOptimizerAsRegularStepGradientDescent(maxStep=2.0, minStep=.01, numberOfIterations=100 )\n",
      "R.SetOptimizerScales([100.0, 1.0, 1.0])\n",
      "R.SetTransform(sitk.Transform(fixed.GetDimension(), sitk.sitkEuler))\n",
      "R.SetInterpolator(sitk.sitkLinear)\n",
      "\n",
      "def command_iteration(method) :\n",
      "    print(\"{0} = {1} : {2}\".format(method.GetOptimizerIteration(),method.GetMetricValue(),method.GetOptimizerPosition()));\n",
      "    sys.stdout.flush();\n",
      "\n",
      "def command_end(R):\n",
      "    print(\"-------\")\n",
      "    print(\"Optimizer stop condition: {0}\".format(R.GetOptimizerStopConditionDescription()))\n",
      "    print(\" Iteration: {0}\".format(R.GetOptimizerIteration()))\n",
      "    print(\" Metric value: {0}\".format(R.GetMetricValue()))\n",
      "    sys.stdout.flush();\n",
      "    \n",
      "R.RemoveAllCommands()\n",
      "R.AddCommand( sitk.sitkIterationEvent, lambda: command_iteration(R) )\n",
      "R.AddCommand( sitk.sitkEndEvent, lambda: command_end(R) )\n",
      "\n",
      "t_output=R.Execute(fixed,moving)\n",
      "warped_image = warpmyimage(fixed,moving,t_output)\n",
      "\n",
      "cmyshow(fixed,moving,title=\"Before registration, Fixed Red, Moving Green\", dpi = 50)\n",
      "cmyshow(fixed,warped_image, title=\"After registration, Fixed Red, Moving Green\", dpi = 50)"
     ],
     "language": "python",
     "metadata": {},
     "outputs": []
    },
    {
     "cell_type": "heading",
     "level": 3,
     "metadata": {},
     "source": [
      "Plotting the progress of optimisation"
     ]
    },
    {
     "cell_type": "markdown",
     "metadata": {},
     "source": [
      "In the next two cells, we are plotting the progress of the (dis)similarity measure during optimisation with two different methods. The first one is using Gradient Descent, the second one is using the Nealder-Mead/Downhill Simplex optimiser (http://en.wikipedia.org/wiki/Nelder%E2%80%93Mead_method).\n",
      "\n",
      "TASK: Try to explain the two differernt curves"
     ]
    },
    {
     "cell_type": "heading",
     "level": 4,
     "metadata": {},
     "source": [
      "Gradient Descent"
     ]
    },
    {
     "cell_type": "code",
     "collapsed": false,
     "input": [
      "def command_plot_value_start(method,title):\n",
      "    global x, ax, f\n",
      "    x = []\n",
      "    f, ax = plt.subplots()\n",
      "    ax.set_title(title,fontsize=16)   \n",
      "    ax.set_xlabel('Optimization Iteration Number',fontsize=16)\n",
      "    ax.set_ylabel('Metric Value',fontsize=16)\n",
      "\n",
      "def command_plot_value_end(method):\n",
      "    global x, ax\n",
      "    del x\n",
      "    del ax\n",
      "    plt.close()\n",
      "\n",
      "def command_plot_value(method):\n",
      "    global x, ax, f\n",
      "    v = method.GetMetricValue()\n",
      "    x.append(v)\n",
      "    if( len(ax.lines) > 0 ):\n",
      "        ax.lines.pop(0)\n",
      "    ax.plot(x,'r')\n",
      "    display(f)\n",
      "    \n",
      "titleSSD='SSD Registration -GradientDescent Optimizer'\n",
      "R.RemoveAllCommands()\n",
      "R.AddCommand( sitk.sitkIterationEvent, lambda:  clear_output() )\n",
      "R.AddCommand( sitk.sitkStartEvent, lambda: command_plot_value_start(R,titleSSD) )\n",
      "R.AddCommand( sitk.sitkEndEvent, lambda: command_plot_value_end(R) )\n",
      "R.AddCommand( sitk.sitkIterationEvent, lambda: command_plot_value(R) )\n",
      "\n",
      "R.SetTransform(sitk.Transform(fixed.GetDimension(), sitk.sitkEuler))\n",
      "\n",
      "R.Execute(fixed,moving)"
     ],
     "language": "python",
     "metadata": {},
     "outputs": []
    },
    {
     "cell_type": "heading",
     "level": 4,
     "metadata": {},
     "source": [
      "Downhill Simplex"
     ]
    },
    {
     "cell_type": "code",
     "collapsed": false,
     "input": [
      "titleNelderMead='SSD Registration - Nelder-Mead Simplex'\n",
      "R.RemoveAllCommands()\n",
      "R.AddCommand( sitk.sitkIterationEvent, lambda:  clear_output() )\n",
      "R.AddCommand( sitk.sitkStartEvent, lambda: command_plot_value_start(R,titleNelderMead) )\n",
      "R.AddCommand( sitk.sitkIterationEvent, lambda: command_plot_value(R) )\n",
      "\n",
      "R.SetTransform(sitk.Transform(fixed.GetDimension(), sitk.sitkEuler))\n",
      "R.SetOptimizerAsAmoeba(simplexDelta=3,parametersConvergenceTolerance=0.01,functionConvergenceTolerance=0.01); \n",
      "\n",
      "R.Execute(fixed,moving)"
     ],
     "language": "python",
     "metadata": {},
     "outputs": []
    }
   ],
   "metadata": {}
  }
 ]
}