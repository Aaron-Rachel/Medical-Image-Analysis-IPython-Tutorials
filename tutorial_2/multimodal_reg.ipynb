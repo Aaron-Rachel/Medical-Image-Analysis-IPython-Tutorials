{
 "metadata": {
  "name": "",
  "signature": "sha256:4cb4e581e36e832cc3e0a8e5c22bb862275c071ea282b4bc6ec0a18d08fd49af"
 },
 "nbformat": 3,
 "nbformat_minor": 0,
 "worksheets": [
  {
   "cells": [
    {
     "cell_type": "heading",
     "level": 2,
     "metadata": {},
     "source": [
      "Image Registration Tutorial - Multi Modal Registration"
     ]
    },
    {
     "cell_type": "markdown",
     "metadata": {},
     "source": [
      "We start by setting up the Python environment and pre-define some useful functions for warping and displaying images."
     ]
    },
    {
     "cell_type": "code",
     "collapsed": false,
     "input": [
      "import sys\n",
      "import os\n",
      "\n",
      "sys.path.insert(0,'simpleitk/SimpleITK-0.8.0-STRAW-branch-py2.7-linux-x86_64.egg_FILES')\n",
      "sys.path.insert(0,'../src')\n",
      "\n",
      "import SimpleITK as sitk\n",
      "import numpy as np\n",
      "import math as mt\n",
      "\n",
      "import matplotlib.pyplot as plt\n",
      "%matplotlib inline\n",
      "from imagedisplay import myshow\n",
      "from IPython.display import display, clear_output\n",
      "\n",
      "# Define the warping function\n",
      "def warpmyimage(reference,img_source,transformation):\n",
      "    \n",
      "    stats = sitk.StatisticsImageFilter()\n",
      "    stats.Execute( img_source )\n",
      "    minval = stats.GetMinimum()\n",
      "    \n",
      "    resampler = sitk.ResampleImageFilter()\n",
      "    resampler.SetReferenceImage(reference)\n",
      "    resampler.SetInterpolator(sitk.sitkLinear)\n",
      "    resampler.SetDefaultPixelValue(minval)\n",
      "    resampler.SetTransform(transformation)\n",
      "    moving = resampler.Execute(img_source)\n",
      "    return moving\n",
      "\n",
      "def cmyshow(img1,img2,*args, **kw):\n",
      "    simg1 = sitk.Cast(sitk.RescaleIntensity(img1), sitk.sitkUInt8)\n",
      "    simg2 = sitk.Cast(sitk.RescaleIntensity(img2), sitk.sitkUInt8)\n",
      "    cimg = sitk.Compose(simg1, simg2, simg1/2.+simg2/2.)\n",
      "    myshow(cimg,*args, **kw)"
     ],
     "language": "python",
     "metadata": {},
     "outputs": []
    },
    {
     "cell_type": "heading",
     "level": 3,
     "metadata": {},
     "source": [
      "CT-MRI registration"
     ]
    },
    {
     "cell_type": "markdown",
     "metadata": {},
     "source": [
      "Here, we are running a full multi modal CT-MRI registration. The original images are already aligned, so we apply a random transformation to the moving image initially. The registration method is then trying to recover this transformation.\n",
      "\n",
      "TASK: a) Modify the code below such that the registration 'works', b) Try out differernt initial transformation parameters"
     ]
    },
    {
     "cell_type": "code",
     "collapsed": false,
     "input": [
      "# Multi Modal Image Registration\n",
      "fixedInputFilename = \"./data/ct.nii.gz\"\n",
      "movingInputFilename = \"./data/mr.nii.gz\"\n",
      "fixed = sitk.ReadImage(fixedInputFilename)\n",
      "moving = sitk.ReadImage(movingInputFilename)\n",
      "\n",
      "# Define a transformation and warp the moving image (this time transformation is in 3D)\n",
      "# Resample the moving image based on this transformation\n",
      "\n",
      "# CHANGE CODE HERE: Try different initial transformation parameters\n",
      "angleZ = -3.14*40/180; tx = -35.00;  ty = 41.00;\n",
      "\n",
      "t_input=sitk.Transform(fixed.GetDimension(), sitk.sitkEuler)\n",
      "t_input.SetParameters([0,0,angleZ,tx,ty,0])\n",
      "moving = warpmyimage(fixed,moving,t_input)\n",
      "\n",
      "global t_output\n",
      "t_output = sitk.Transform(fixed.GetDimension(), sitk.sitkEuler)\n",
      "\n",
      "# Multi-scale registration \n",
      "levels = [8,4]\n",
      "for level in levels:\n",
      "\n",
      "    fixed_s = sitk.DiscreteGaussian(fixed, 2.0 * level )\n",
      "    moving_s = sitk.DiscreteGaussian(moving, 2.0 * level )\n",
      "    \n",
      "    fixed_s = sitk.Shrink(fixed_s, [1,1] * level )\n",
      "    moving_s = sitk.Shrink(moving_s, [1,1] * level )\n",
      "        \n",
      "    # Create the registration object and set its properties\n",
      "    R = sitk.ImageRegistrationMethod()\n",
      "    R.SetOptimizerAsRegularStepGradientDescent(maxStep=4.0, minStep=.05, numberOfIterations=400 )\n",
      "    R.SetOptimizerScales([1e10,1e10,100,1,1,1e10])\n",
      "    R.SetInterpolator(sitk.sitkLinear)\n",
      "    R.SetTransform(t_output)\n",
      "    R.SetNumberOfThreads(8)\n",
      "    \n",
      "    # Define the (dis)similarity measure, sum of squared differences\n",
      "    R.SetMetricAsMeanSquares()\n",
      "    \n",
      "    # To observe the cost function over iterations\n",
      "    def command_iteration(method) :\n",
      "        if ((method.GetOptimizerIteration() % 100) == 0):\n",
      "            print(\"{0} = {1} : {2}\".format(method.GetOptimizerIteration(),\n",
      "                                           method.GetMetricValue(),\n",
      "                                           method.GetOptimizerPosition()));\n",
      "            sys.stdout.flush();   \n",
      "    def command_end(R):\n",
      "        print(\"-------\")\n",
      "        print(\"Optimizer stop condition: {0}\".format(R.GetOptimizerStopConditionDescription()))\n",
      "        print(\" Iteration: {0}\".format(R.GetOptimizerIteration()))\n",
      "        print(\" Metric value: {0}\".format(R.GetMetricValue()))\n",
      "        sys.stdout.flush();\n",
      "\n",
      "    R.RemoveAllCommands()\n",
      "    R.AddCommand( sitk.sitkIterationEvent, lambda: command_iteration(R) )\n",
      "    R.AddCommand( sitk.sitkEndEvent, lambda: command_end(R) )\n",
      "\n",
      "    # Run the registration and warp moving image\n",
      "    t_output = R.Execute(fixed_s,moving_s)\n",
      "\n",
      "warped_image = warpmyimage(fixed,moving,t_output)\n",
      "cmyshow(fixed,moving, title=\"Fixed Red, Moving Green - Before Registration\", dpi = 50)\n",
      "cmyshow(fixed,warped_image, title=\"Fixed Red, Moving Green - After Registration\", dpi = 50)"
     ],
     "language": "python",
     "metadata": {},
     "outputs": []
    }
   ],
   "metadata": {}
  }
 ]
}